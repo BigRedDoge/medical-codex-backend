{
 "cells": [
  {
   "cell_type": "code",
   "execution_count": 18,
   "metadata": {
    "pycharm": {
     "is_executing": true
    },
    "tags": [],
    "ExecuteTime": {
     "end_time": "2024-05-08T05:03:09.743670Z",
     "start_time": "2024-05-08T05:03:09.734612Z"
    }
   },
   "outputs": [],
   "source": [
    "import pandas as pd\n",
    "from os import listdir\n",
    "from os.path import isfile, join\n",
    "import pathlib\n",
    "import json\n",
    "import csv"
   ]
  },
  {
   "cell_type": "code",
   "execution_count": 19,
   "metadata": {
    "collapsed": false,
    "ExecuteTime": {
     "end_time": "2024-05-08T05:03:09.801847Z",
     "start_time": "2024-05-08T05:03:09.765157Z"
    }
   },
   "outputs": [],
   "source": [
    "data_path = pathlib.Path(\"json_wikidata\")\n",
    "# lister les fichiers dans le dossier\n",
    "json_files = [f for f in listdir(data_path) if isfile(data_path / f)]"
   ]
  },
  {
   "cell_type": "code",
   "execution_count": 20,
   "metadata": {
    "ExecuteTime": {
     "end_time": "2024-05-08T05:03:09.806310Z",
     "start_time": "2024-05-08T05:03:09.803386Z"
    }
   },
   "outputs": [],
   "source": [
    "def get_label(json_data,lang='en'):\n",
    "    try:\n",
    "        label = json_data['labels'][lang]['value']\n",
    "    except:\n",
    "        label = ''\n",
    "    return label"
   ]
  },
  {
   "cell_type": "code",
   "execution_count": 21,
   "metadata": {
    "ExecuteTime": {
     "end_time": "2024-05-08T05:03:09.810643Z",
     "start_time": "2024-05-08T05:03:09.807460Z"
    }
   },
   "outputs": [],
   "source": [
    "def get_alias_list(json_data,lang='en'):\n",
    "    alias_list = []\n",
    "    try:\n",
    "        aliases = json_data['aliases'][lang]\n",
    "        for alias in aliases:\n",
    "            alias_list.append(alias['value'])\n",
    "    except:\n",
    "        pass\n",
    "    return alias_list"
   ]
  },
  {
   "cell_type": "code",
   "execution_count": 22,
   "metadata": {
    "ExecuteTime": {
     "end_time": "2024-05-08T05:03:09.814475Z",
     "start_time": "2024-05-08T05:03:09.812220Z"
    }
   },
   "outputs": [],
   "source": [
    "def get_chembl_id(json_data):\n",
    "    try:\n",
    "        chembl_id = json_data['claims']['P592'][0]['mainsnak']['datavalue']['value']\n",
    "    except:\n",
    "        chembl_id = ''\n",
    "    return chembl_id"
   ]
  },
  {
   "cell_type": "code",
   "execution_count": 23,
   "metadata": {
    "ExecuteTime": {
     "end_time": "2024-05-08T05:03:09.818395Z",
     "start_time": "2024-05-08T05:03:09.815363Z"
    }
   },
   "outputs": [],
   "source": [
    "def get_chebi_id(json_data):\n",
    "    try:\n",
    "        chebi_id = json_data['claims']['P683'][0]['mainsnak']['datavalue']['value']\n",
    "    except:\n",
    "        chebi_id = ''\n",
    "    return chebi_id"
   ]
  },
  {
   "cell_type": "code",
   "execution_count": 24,
   "metadata": {
    "ExecuteTime": {
     "end_time": "2024-05-08T05:03:09.821442Z",
     "start_time": "2024-05-08T05:03:09.819176Z"
    }
   },
   "outputs": [],
   "source": [
    "def get_atc_code(json_data):\n",
    "    try:\n",
    "        atc_code = json_data['claims']['P267'][0]['mainsnak']['datavalue']['value']\n",
    "    except:\n",
    "        atc_code = ''\n",
    "    return atc_code"
   ]
  },
  {
   "cell_type": "code",
   "outputs": [],
   "source": [
    "def get_rxnorm(json_data):\n",
    "    try:\n",
    "        rxnorm = json_data['claims']['P3345'][0]['mainsnak']['datavalue']['value']\n",
    "    except:\n",
    "        rxnorm = ''\n",
    "    return rxnorm"
   ],
   "metadata": {
    "collapsed": false,
    "ExecuteTime": {
     "end_time": "2024-05-08T05:03:09.824658Z",
     "start_time": "2024-05-08T05:03:09.822246Z"
    }
   },
   "execution_count": 25
  },
  {
   "cell_type": "code",
   "execution_count": 26,
   "metadata": {
    "ExecuteTime": {
     "end_time": "2024-05-08T05:03:09.827661Z",
     "start_time": "2024-05-08T05:03:09.825519Z"
    }
   },
   "outputs": [],
   "source": [
    "def get_sitelink(json_data,site):\n",
    "    try:\n",
    "        sitelink=json_data['sitelinks'][site]['url']\n",
    "    except:\n",
    "        sitelink=''\n",
    "    return sitelink"
   ]
  },
  {
   "cell_type": "code",
   "execution_count": 27,
   "metadata": {
    "ExecuteTime": {
     "end_time": "2024-05-08T05:03:09.831347Z",
     "start_time": "2024-05-08T05:03:09.828517Z"
    }
   },
   "outputs": [],
   "source": [
    "def get_tallman_name(json_data):\n",
    "    try:\n",
    "        tallman_name = json_data['claims']['P9989'][0]['mainsnak']['datavalue']['value']\n",
    "    except:\n",
    "        tallman_name = ''\n",
    "    return tallman_name"
   ]
  },
  {
   "cell_type": "code",
   "execution_count": 28,
   "metadata": {
    "ExecuteTime": {
     "end_time": "2024-05-08T05:03:09.835305Z",
     "start_time": "2024-05-08T05:03:09.832715Z"
    }
   },
   "outputs": [],
   "source": [
    "all_dict_wikidata = []"
   ]
  },
  {
   "cell_type": "code",
   "execution_count": 29,
   "metadata": {
    "ExecuteTime": {
     "end_time": "2024-05-08T05:03:10.438993Z",
     "start_time": "2024-05-08T05:03:09.836020Z"
    }
   },
   "outputs": [],
   "source": [
    "for json_file in json_files:\n",
    "    with open(data_path / json_file) as f:\n",
    "        json_data = json.load(f)\n",
    "        dict_langdata = {\n",
    "            'id': json_data['id'],\n",
    "            'label_uk' : get_label(json_data,'uk'),\n",
    "            'label_ru' : get_label(json_data,'ru'),\n",
    "            'label_fr' : get_label(json_data,'fr'),\n",
    "            'label_en' : get_label(json_data,'en'),\n",
    "            'alias_list_uk' : get_alias_list(json_data,'uk'),\n",
    "            'alias_list_ru' : get_alias_list(json_data,'ru'),\n",
    "            'alias_list_fr' : get_alias_list(json_data,'fr'),\n",
    "            'alias_list_en' : get_alias_list(json_data,'en'),\n",
    "            'chembl_id' : get_chembl_id(json_data),\n",
    "            'chebi_id': get_chebi_id(json_data),\n",
    "            'atc_code': get_atc_code(json_data),\n",
    "            'rxnorm': get_rxnorm(json_data),\n",
    "            'ukwiki_sitelink' : get_sitelink(json_data,'ukwiki'),\n",
    "            'frwiki_sitelink' : get_sitelink(json_data,'frwiki'),\n",
    "            'ruwiki_sitelink' : get_sitelink(json_data,'ruwiki'),\n",
    "            'enwiki_sitelink' : get_sitelink(json_data,'enwiki'),\n",
    "            'tallman_name' : get_tallman_name(json_data)\n",
    "        }\n",
    "        all_dict_wikidata.append(dict_langdata)"
   ]
  },
  {
   "cell_type": "code",
   "execution_count": 30,
   "metadata": {
    "ExecuteTime": {
     "end_time": "2024-05-08T05:03:10.448254Z",
     "start_time": "2024-05-08T05:03:10.439817Z"
    }
   },
   "outputs": [],
   "source": [
    "df_all_dict_wikidata = pd.DataFrame(all_dict_wikidata)"
   ]
  },
  {
   "cell_type": "code",
   "execution_count": 31,
   "metadata": {
    "ExecuteTime": {
     "end_time": "2024-05-08T05:03:10.478437Z",
     "start_time": "2024-05-08T05:03:10.449050Z"
    }
   },
   "outputs": [],
   "source": [
    "df_all_dict_wikidata.to_csv(\"wikidata_names_2024-05-08.csv\",index=False,quoting=csv.QUOTE_ALL)"
   ]
  }
 ],
 "metadata": {
  "kernelspec": {
   "display_name": "Python 3 (ipykernel)",
   "language": "python",
   "name": "python3"
  },
  "language_info": {
   "codemirror_mode": {
    "name": "ipython",
    "version": 3
   },
   "file_extension": ".py",
   "mimetype": "text/x-python",
   "name": "python",
   "nbconvert_exporter": "python",
   "pygments_lexer": "ipython3",
   "version": "3.9.12"
  }
 },
 "nbformat": 4,
 "nbformat_minor": 4
}
