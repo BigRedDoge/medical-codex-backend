{
 "cells": [
  {
   "cell_type": "code",
   "execution_count": null,
   "metadata": {},
   "outputs": [],
   "source": [
    "from qwikidata.linked_data_interface import get_entity_dict_from_api\n",
    "from qwikidata.sparql import return_sparql_query_results\n",
    "import json\n",
    "import time\n",
    "import os.path"
   ]
  },
  {
   "cell_type": "markdown",
   "metadata": {},
   "source": [
    "## Extraction de tous les médicaments"
   ]
  },
  {
   "cell_type": "code",
   "execution_count": null,
   "metadata": {},
   "outputs": [],
   "source": [
    "sparql_query = \"\"\"\n",
    "SELECT DISTINCT ?item WHERE {\n",
    "  ?item p:P31 ?statement0.\n",
    "  ?statement0 (ps:P31/(wdt:P279*)) wd:Q12140.\n",
    "}\n",
    "\"\"\""
   ]
  },
  {
   "cell_type": "code",
   "execution_count": null,
   "metadata": {},
   "outputs": [],
   "source": [
    "res = return_sparql_query_results(sparql_query)"
   ]
  },
  {
   "cell_type": "code",
   "execution_count": null,
   "metadata": {},
   "outputs": [],
   "source": [
    "toutes_uri = [i['item']['value'] for i in res['results']['bindings']]"
   ]
  },
  {
   "cell_type": "code",
   "execution_count": null,
   "metadata": {},
   "outputs": [],
   "source": [
    "len(toutes_uri)"
   ]
  },
  {
   "cell_type": "code",
   "execution_count": null,
   "metadata": {},
   "outputs": [],
   "source": [
    "toutes_uri[0]"
   ]
  },
  {
   "cell_type": "code",
   "execution_count": null,
   "metadata": {},
   "outputs": [],
   "source": [
    "entity_id = toutes_uri[0].split(\"/\")[-1]"
   ]
  },
  {
   "cell_type": "code",
   "execution_count": null,
   "metadata": {},
   "outputs": [],
   "source": [
    "this_dict = get_entity_dict_from_api(entity_id)"
   ]
  },
  {
   "cell_type": "code",
   "execution_count": null,
   "metadata": {},
   "outputs": [],
   "source": [
    "with open(entity_id+'-data.json', 'w', encoding='utf-8') as f:\n",
    "    json.dump(this_dict, f, ensure_ascii=False, indent=4)"
   ]
  },
  {
   "cell_type": "markdown",
   "metadata": {},
   "source": [
    "### boucle pour télécharger les json pour tous les médicaments"
   ]
  },
  {
   "cell_type": "code",
   "execution_count": null,
   "metadata": {},
   "outputs": [],
   "source": [
    "for med_uri in toutes_uri:\n",
    "    entity_id = med_uri.split(\"/\")[-1]\n",
    "    filename_j = './json_wikidata/'+entity_id+'-data.json'\n",
    "    if not os.path.isfile(filename_j):\n",
    "        this_dict = get_entity_dict_from_api(entity_id)\n",
    "        with open(filename_j, 'w', encoding='utf-8') as f:\n",
    "            json.dump(this_dict, f, ensure_ascii=False, indent=4)\n",
    "        print(\"extracted:\"+entity_id)\n",
    "        time.sleep(0.15)"
   ]
  }
 ],
 "metadata": {
  "kernelspec": {
   "display_name": "Python 3 (ipykernel)",
   "language": "python",
   "name": "python3"
  },
  "language_info": {
   "codemirror_mode": {
    "name": "ipython",
    "version": 3
   },
   "file_extension": ".py",
   "mimetype": "text/x-python",
   "name": "python",
   "nbconvert_exporter": "python",
   "pygments_lexer": "ipython3",
   "version": "3.10.6"
  },
  "vscode": {
   "interpreter": {
    "hash": "8cc3f71aceba8d29a2ec49c3a462dc6a301d12efc1f4a1dbd3cf760d5d9b3856"
   }
  }
 },
 "nbformat": 4,
 "nbformat_minor": 4
}
